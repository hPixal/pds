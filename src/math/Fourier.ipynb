{
 "cells": [
  {
   "cell_type": "code",
   "execution_count": null,
   "id": "89f6d9d3",
   "metadata": {},
   "outputs": [],
   "source": [
    "\n",
    "import numpy as np\n",
    "\n",
    "# Fucniones de Prueba\n",
    "def senoidal(f_m, f_s, t_i, t_f, amp, alpha):\n",
    "    dt = 1/f_m\n",
    "    x = np.arange(t_i, t_f, dt)\n",
    "    y = amp * np.sin(2 * np.pi * f_s * t + alpha)\n",
    "    return t, y"
   ]
  },
  {
   "cell_type": "markdown",
   "id": "f2825eff",
   "metadata": {},
   "source": [
    "# Serie de Fourier\n",
    "Se usa para funciones periodicas\n",
    "\n",
    "$$\n",
    "f(t) = a_0 + \\sum_{n=1}^{\\infty} \\left[ a_n \\cos\\left(\\frac{2\\pi n}{T} t \\right) + b_n \\sin\\left(\\frac{2\\pi n}{T} t \\right) \\right]\n",
    "$$\n",
    "\n",
    "Donde los coeficientes $a_n$ y $b_n$ se calculan así:\n",
    "\n",
    "$$\n",
    "a_n = \\frac{2}{T} \\int_{0}^{T} f(t) \\cos\\left(\\frac{2\\pi n}{T} t\\right) dt,\\quad\n",
    "b_n = \\frac{2}{T} \\int_{0}^{T} f(t) \\sin\\left(\\frac{2\\pi n}{T} t\\right) dt\n",
    "$$\n",
    "\n",
    "### Identidades de Euler\n",
    "\n",
    "$$\n",
    "\\cos(x) = \\frac{e^{ix} + e^{-ix}}{2}, \\quad\n",
    "\\sin(x) = \\frac{e^{ix} - e^{-ix}}{2i}\n",
    "$$\n",
    "\n",
    "Sustituimos en la forma trigonométrica:\n",
    "\n",
    "$$\n",
    "f(t) = a_0 + \\sum_{n=1}^{\\infty} \\left[ a_n \\cdot \\frac{e^{i\\omega n t} + e^{-i\\omega n t}}{2} + b_n \\cdot \\frac{e^{i\\omega n t} - e^{-i\\omega n t}}{2i} \\right]\n",
    "$$\n",
    "\n",
    "Agrupamos términos exponenciales:\n",
    "\n",
    "$$\n",
    "f(t) = \\sum_{n=-\\infty}^{\\infty} c_n e^{i\\omega n t}\n",
    "$$\n",
    "\n",
    "donde $\\omega = \\frac{2\\pi}{T}$, y los coeficientes complejos $c_n$ están dados por:\n",
    "\n",
    "$$\n",
    "c_n = \\frac{1}{T} \\int_0^T f(t) e^{-i \\omega n t} dt = \\frac{1}{T} \\int_0^T f(t) e^{ \\frac{-i 2 \\pi n t}{T}} dt \n",
    "$$\n",
    "\n",
    "\n",
    "$$\n",
    "f(t) = \\sum_{n=-\\infty}^{\\infty} c_n e^{i \\frac{2\\pi n}{T} t}\n",
    "$$\n",
    "\n",
    "Donde cada $c_n$ es un número complejo que codifica **amplitud y fase** de cada componente armónica.\n"
   ]
  },
  {
   "cell_type": "markdown",
   "id": "2698cb94",
   "metadata": {},
   "source": []
  },
  {
   "cell_type": "code",
   "execution_count": null,
   "id": "5e9cee5c",
   "metadata": {},
   "outputs": [],
   "source": [
    " "
   ]
  },
  {
   "cell_type": "markdown",
   "id": "f2f84fe0",
   "metadata": {},
   "source": []
  },
  {
   "cell_type": "markdown",
   "id": "c16ec64d",
   "metadata": {},
   "source": [
    "# Transformada de Fourier continua\n",
    "Se una para funciones no periódicas"
   ]
  },
  {
   "cell_type": "markdown",
   "id": "c024fe2c",
   "metadata": {},
   "source": [
    "# Transformada de Fourier de una secuencia discreta\n",
    "Se usa para señales muestreadas\n",
    "\n",
    "# Tranformada Discrea de Fourier\n",
    "Es para señales discretas y finitas\n",
    "\n",
    "# Transformada rápida de Fourier\n",
    "Es para señales discretas y finitas para estimación espectral"
   ]
  }
 ],
 "metadata": {
  "kernelspec": {
   "display_name": "Python 3",
   "language": "python",
   "name": "python3"
  },
  "language_info": {
   "name": "python",
   "version": "3.10.12"
  }
 },
 "nbformat": 4,
 "nbformat_minor": 5
}
